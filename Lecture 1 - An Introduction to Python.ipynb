{
 "cells": [
  {
   "cell_type": "markdown",
   "metadata": {},
   "source": [
    "<h1>ATM S 541: LECTURE 1</h1>\n",
    "\n",
    "<h2>An Introduction to Python</h2>\n",
    "\n",
    "01/27/2020"
   ]
  },
  {
   "cell_type": "markdown",
   "metadata": {},
   "source": [
    "<h3>1.0 Logistics</h3>\n",
    "\n",
    "The current (tentative) plan for this part of the course is to have lectures on Monday, Wednesday, and Friday, each introducing you to some elements of Python. Each lecture will end with a very brief (2- or 3-question) assignment that applies some of what was learned. You'll have Tuesday and Thursday to work on your lab - remember, the first draft is due on February 3!"
   ]
  },
  {
   "cell_type": "markdown",
   "metadata": {},
   "source": [
    "<h3>1.1 Welcome to Jupyter Notebooks</h3>\n",
    "\n",
    "Welcome to ATM S 541's first Python lecture!\n",
    "\n",
    "This lecture covers many of the basics of this language, but there are countless resources online to help you if you're unsure where to turn. If you'd like to play around with Python on your own computer, the easiest way to get started is by installing <a href=\"https://www.anaconda.com/distribution/#download-section\">Anaconda</a>."
   ]
  },
  {
   "cell_type": "markdown",
   "metadata": {},
   "source": [
    "First, this is a Jupyter Notebook, which enables a combination of markup cells (like this one) to provide description alongside actual code that can be run. If you want to change a markup cell, simply double-click on the text, make any changes you want to make, and click \"Run\" above to execute. You can add HTML-style tags to markup cells to add details such as formatting and links."
   ]
  },
  {
   "cell_type": "markdown",
   "metadata": {},
   "source": [
    "There are also code cells, which can actually be executed, just like in a normal programming environment. Click on the below code cell and try clicking \"Run\". You can also modify the text that's being printed to the screen and try running it again."
   ]
  },
  {
   "cell_type": "code",
   "execution_count": null,
   "metadata": {},
   "outputs": [],
   "source": [
    "print(\"Hello World!\")"
   ]
  },
  {
   "cell_type": "markdown",
   "metadata": {},
   "source": [
    "You can also work in real-time with data!"
   ]
  },
  {
   "cell_type": "code",
   "execution_count": null,
   "metadata": {},
   "outputs": [],
   "source": [
    "import matplotlib.pyplot as plt\n",
    "\n",
    "labels = 'Python', 'Matlab', 'IDL', 'Fortran'\n",
    "sizes = [2, 6, 1, 3]\n",
    "\n",
    "fig1, ax1 = plt.subplots()\n",
    "ax1.pie(sizes, labels=labels, autopct='%1.1f%%',\n",
    "        startangle=90)\n",
    "ax1.axis('equal')\n",
    "\n",
    "plt.show()"
   ]
  },
  {
   "cell_type": "markdown",
   "metadata": {},
   "source": [
    "<h3>1.2 Some Notes on Python...</h3>\n",
    "\n",
    "Depending on your previous coding experience, certain parts of Python will seem familiar and certain parts will seem very different. <a href=\"https://www.stavros.io/tutorials/python/\">Here's</a> a quick reference for syntax. \n",
    "\n",
    "One of the biggest highlights is that Python has no mandatory statement termination, which means no semi-colons to remember! This also means that indentation becomes important: all parts of the code that are equally intended are considered part of the same block of code. More on that soon!\n",
    "\n",
    "Indexing also starts at 0, which is in contrast to languages like Matlab that start counting at 1.\n",
    "\n",
    "You can write comments (text meant for a human reader, not the computer) by starting your line with a # symbol. Commenting your code will make your life (and that of your future collaborators) so much easier!\n",
    "\n",
    "As a side note, you can use Python as a regular calculator (remembering to use the \"print\" statement to get your final result)."
   ]
  },
  {
   "cell_type": "code",
   "execution_count": null,
   "metadata": {},
   "outputs": [],
   "source": [
    "print(3 + 2.3)"
   ]
  },
  {
   "cell_type": "markdown",
   "metadata": {},
   "source": [
    "<h3>1.3 Data Types</h3>\n",
    "\n",
    "<b>Rules for Variable Names</b>\n",
    "<ul>\n",
    "    <li>Can only begin with uppercase or lowercase letters.</li>\n",
    "    <li>Can contain numbers and most symbols.</li>\n",
    "</ul>\n",
    "\n",
    "An equals sign (=) will assign a value to your variable name.\n",
    "\n",
    "Some of the more common variable types include:\n",
    "<ul>\n",
    "    <li><i>Integer</i></li>\n",
    "    <li><i>Floating Point</i></li>\n",
    "    <li><i>String</i></li>\n",
    "</ul>"
   ]
  },
  {
   "cell_type": "code",
   "execution_count": null,
   "metadata": {},
   "outputs": [],
   "source": [
    "# Assigning an integer value to a variable will automatically set its data type to \"integer\". \n",
    "\n",
    "my_integer = 3\n",
    "print(my_integer)\n",
    "\n",
    "# Data type can be checked by using the \"type\" function.\n",
    "\n",
    "type(my_integer)"
   ]
  },
  {
   "cell_type": "code",
   "execution_count": null,
   "metadata": {},
   "outputs": [],
   "source": [
    "# As soon as a decimal point enters into play, the data type becomes \"float\".\n",
    "\n",
    "my_float = 3.0\n",
    "print(my_float)\n",
    "type(my_float)"
   ]
  },
  {
   "cell_type": "code",
   "execution_count": null,
   "metadata": {},
   "outputs": [],
   "source": [
    "# If an integer and a float are combined by an arithmetic operation, the final result will have a float data type.\n",
    "\n",
    "my_combo = my_integer + my_float\n",
    "print(my_combo)\n",
    "type(my_combo)"
   ]
  },
  {
   "cell_type": "code",
   "execution_count": null,
   "metadata": {},
   "outputs": [],
   "source": [
    "# Sometimes you may need to convert a float to an integer and vice-versa.\n",
    "\n",
    "unwanted_float = 6.5\n",
    "\n",
    "# To convert a float to an integer, use the \"int\" function.\n",
    "\n",
    "unwanted_float = int(unwanted_float)\n",
    "\n",
    "# Note that some information (everything past the decimal point) is lost in the conversion!\n",
    "\n",
    "print(unwanted_float)\n",
    "type(unwanted_float)"
   ]
  },
  {
   "cell_type": "code",
   "execution_count": null,
   "metadata": {},
   "outputs": [],
   "source": [
    "# Likewise, you can convert an integer to a float using the \"float\" function.\n",
    "\n",
    "unwanted_integer = 2\n",
    "unwanted_integer = float(unwanted_integer)\n",
    "\n",
    "print(unwanted_integer)\n",
    "type(unwanted_integer)"
   ]
  },
  {
   "cell_type": "code",
   "execution_count": null,
   "metadata": {},
   "outputs": [],
   "source": [
    "# Strings contain text information. \n",
    "# You can use single or double quotes, but be consistent in what you use to open and close your quotation marks!\n",
    "\n",
    "my_string = \"Hi, this is a string!\"\n",
    "print(my_string)\n",
    "type(my_string)"
   ]
  },
  {
   "cell_type": "code",
   "execution_count": null,
   "metadata": {},
   "outputs": [],
   "source": [
    "# You can combine two strings by simply adding them arithmetically.\n",
    "\n",
    "my_string2 = '?!?!?!'\n",
    "my_string_combo = my_string + my_string2\n",
    "print(my_string_combo)"
   ]
  },
  {
   "cell_type": "code",
   "execution_count": null,
   "metadata": {},
   "outputs": [],
   "source": [
    "# But beware trying to combine a string and a numeric data type...\n",
    "\n",
    "doomed_combo = my_string + my_integer"
   ]
  },
  {
   "cell_type": "code",
   "execution_count": null,
   "metadata": {},
   "outputs": [],
   "source": [
    "# To solve this problem, you can use the \"str\" function to change that integer to a text-only string!\n",
    "\n",
    "healthy_combo = my_string + str(my_integer)\n",
    "print(healthy_combo)"
   ]
  },
  {
   "cell_type": "markdown",
   "metadata": {},
   "source": [
    "<h3>1.4 Lists and Dictionaries</h3>\n",
    "\n",
    "<b>Lists</b> come up frequently in scientific data, and Python has some very powerful tools available to make lists easier to navigate.\n",
    "\n",
    "Remember, counting in Python <b>starts at 0, not 1</b>. The first entry in a list will be Entry 0, the second will be Entry 1, and so on. It's also possible to count backwards, so that the final entry in a list will be Entry -1.\n"
   ]
  },
  {
   "cell_type": "code",
   "execution_count": null,
   "metadata": {},
   "outputs": [],
   "source": [
    "my_list = ['A','B','C','D','E','F','G']\n",
    "print(my_list[0])\n",
    "print(my_list[-1])"
   ]
  },
  {
   "cell_type": "code",
   "execution_count": null,
   "metadata": {},
   "outputs": [],
   "source": [
    "# The 'len' function gives you the total number of entries in a list.\n",
    "\n",
    "len(my_list)"
   ]
  },
  {
   "cell_type": "code",
   "execution_count": null,
   "metadata": {},
   "outputs": [],
   "source": [
    "# \"append\" lets you add another entry to the end of the list.\n",
    "\n",
    "my_list.append('H')\n",
    "print(my_list)"
   ]
  },
  {
   "cell_type": "code",
   "execution_count": null,
   "metadata": {},
   "outputs": [],
   "source": [
    "# \"insert\" lets you add an entry to the list before the specified index value.\n",
    "\n",
    "my_list.insert(1,'A.5')\n",
    "print(my_list)"
   ]
  },
  {
   "cell_type": "code",
   "execution_count": null,
   "metadata": {},
   "outputs": [],
   "source": [
    "# \"remove\" will remove the first item on the list with the specified value.\n",
    "\n",
    "my_list.remove('A.5')\n",
    "print(my_list)"
   ]
  },
  {
   "cell_type": "code",
   "execution_count": null,
   "metadata": {},
   "outputs": [],
   "source": [
    "# \"reverse\" will flip the order of the list.\n",
    "\n",
    "my_list.reverse()\n",
    "print(my_list)"
   ]
  },
  {
   "cell_type": "markdown",
   "metadata": {},
   "source": [
    "A <b>dictionary</b> is just another way of storing related data."
   ]
  },
  {
   "cell_type": "code",
   "execution_count": null,
   "metadata": {},
   "outputs": [],
   "source": [
    "year_of_birth = {'Fred': 1998,\n",
    "                 'Cynthia': 1982,\n",
    "                 'Sylvia': 1967}\n",
    "\n",
    "print(year_of_birth['Fred'])"
   ]
  },
  {
   "cell_type": "markdown",
   "metadata": {},
   "source": [
    "<h3>1.5 Loops and Conditionals</h3>\n",
    "\n",
    "<h4>1.5.0 Logical Conditions</h4>\n",
    "\n",
    "<ul>\n",
    "    <li>Equals: a == b</li>\n",
    "    <li>Does Not Equal: a != b</li>\n",
    "    <li>Less Than: a < b</li>\n",
    "    <li>Greater Than: a > b</li>\n",
    "    <li>Less Than or Equal To: a <= b</li>\n",
    "    <li>Greater Than or Equal To: a >= b</li>\n",
    "</ul>\n",
    "        \n",
    "\n",
    "<h4>1.5.1 While Loops</h4>\n",
    "\n",
    "A <b>while loop</b> will continue to perform the requested functions as long as it matches some prespecified condition."
   ]
  },
  {
   "cell_type": "code",
   "execution_count": null,
   "metadata": {},
   "outputs": [],
   "source": [
    "# Let's say you want to program code to add a random number between 0 and 1 to the number 1, \n",
    "# and then stop when the total reaches 5 and tell you how many random numbers it took.\n",
    "# To do this with a while loop, you'll need a variable to keep track of what your total is.\n",
    "\n",
    "# That variable should be initialized so it has a value to begin with.\n",
    "\n",
    "total_val = 1.0\n",
    "\n",
    "# The counter variable should also be initialized.\n",
    "\n",
    "count_val = 0\n",
    "\n",
    "# To generate a random number, you'll need the following line (more on this later):\n",
    "\n",
    "import random\n",
    "\n",
    "# Now we're ready for the while loop itself!\n",
    "\n",
    "while total_val <= 5:\n",
    "    total_val+=random.uniform(0,1)\n",
    "    count_val+=1\n",
    "    \n",
    "print(count_val)"
   ]
  },
  {
   "cell_type": "markdown",
   "metadata": {},
   "source": [
    "<h4>1.5.2 For Loops</h4>\n",
    "\n",
    "A <b>for loop</b> in Fortran is generally used to iterate over a list."
   ]
  },
  {
   "cell_type": "code",
   "execution_count": null,
   "metadata": {},
   "outputs": [],
   "source": [
    "# Let's go back to our list example from the previous section. \n",
    "# Here, 'x' will count along each index in the list.\n",
    "\n",
    "for x in my_list:\n",
    "    print(x)"
   ]
  },
  {
   "cell_type": "markdown",
   "metadata": {},
   "source": [
    "<h4>1.5.3 If Statements</h4>\n",
    "\n",
    "Conditional statements in Python can be summed up as <b>if statements</b>. An initial condition is tested for truth, and the indented functions are only carried out if that condition is met."
   ]
  },
  {
   "cell_type": "code",
   "execution_count": null,
   "metadata": {},
   "outputs": [],
   "source": [
    "# Let's create a code that counts to 20 but only prints numbers divisible by three.\n",
    "# A while loop seems like a good way to go about this, but we'll need an if statement to determine divisibility.\n",
    "# We'll also need to make use of what's called a \"modulo\", which is the \"%\" symbol and outputs the remainder of division.\n",
    "# For divisibility by three, we thus want i%3 to be zero (no remainder when divided by three).\n",
    "\n",
    "i = 1\n",
    "\n",
    "while i <= 20:\n",
    "    if i%3 == 0:\n",
    "        print(i)\n",
    "    i+=1"
   ]
  },
  {
   "cell_type": "markdown",
   "metadata": {},
   "source": [
    "If you'd like to cycle between mutually exclusive possibilities, you can add an <b>else statement</b>; that is, either the if statement is true, or else what?"
   ]
  },
  {
   "cell_type": "code",
   "execution_count": null,
   "metadata": {},
   "outputs": [],
   "source": [
    "# How about a code that counts to 20 and tells you when a given integer is divisible by 3, \n",
    "# but also lets you know when it isn't?\n",
    "\n",
    "i = 1\n",
    "\n",
    "while i <= 20:\n",
    "    if i%3 == 0:\n",
    "        print(str(i)+\" is divisible by 3\")\n",
    "    else:\n",
    "        print(str(i)+\" is not divisible by 3\")\n",
    "    i+=1\n",
    "        "
   ]
  },
  {
   "cell_type": "markdown",
   "metadata": {},
   "source": [
    "If you'd like to cycle between various possibilities, you can use <b>elif</b> (which stands for \"else if\")."
   ]
  },
  {
   "cell_type": "code",
   "execution_count": null,
   "metadata": {},
   "outputs": [],
   "source": [
    "# How about a code that counts to 20 and tells you when a given integer is divisible by 2, 3, 4, 5, or 10?\n",
    "\n",
    "i = 1\n",
    "\n",
    "while i <= 20:\n",
    "    if i%2 == 0:\n",
    "        print(str(i)+\" is divisible by 2\")\n",
    "    elif i%3 == 0:\n",
    "        print(str(i)+\" is divisible by 3\")\n",
    "    elif i%4 == 0:\n",
    "        print(str(i)+\" is divisible by 4\")\n",
    "    elif i%5 == 0:\n",
    "        print(str(i)+\" is divisible by 5\")\n",
    "    elif i%10 == 0:\n",
    "        print(str(i)+\" is divisible by 10\")\n",
    "    i+=1"
   ]
  },
  {
   "cell_type": "markdown",
   "metadata": {},
   "source": [
    "<h2>Exercise #1</h2>\n",
    "\n",
    "In the output of the above <b>elif</b> example, why do we not see statements such as \"4 is divisible by 4\", even though that is true?\n",
    "\n",
    "<h2>Exercise #2</h2>\n",
    "\n",
    "How would you rewrite the code so that <i>all</i> the factors of each number from 1 to 20 are shown? That is, can you rewrite the code so that it reads\n",
    "\n",
    "2 is divisible by 2\n",
    "\n",
    "3 is divisible by 3\n",
    "\n",
    "4 is divisible by 2\n",
    "\n",
    "4 is divisible by 4\n",
    "\n",
    "5 is divisible by 5\n",
    "\n",
    "6 is divisible by 2\n",
    "\n",
    "6 is divisible by 3\n",
    "\n",
    "6 is divisible by 6\n",
    "\n",
    "[...]\n",
    "\n",
    "And so on?"
   ]
  },
  {
   "cell_type": "code",
   "execution_count": null,
   "metadata": {},
   "outputs": [],
   "source": []
  }
 ],
 "metadata": {
  "kernelspec": {
   "display_name": "Python 3",
   "language": "python",
   "name": "python3"
  },
  "language_info": {
   "codemirror_mode": {
    "name": "ipython",
    "version": 3
   },
   "file_extension": ".py",
   "mimetype": "text/x-python",
   "name": "python",
   "nbconvert_exporter": "python",
   "pygments_lexer": "ipython3",
   "version": "3.7.4"
  }
 },
 "nbformat": 4,
 "nbformat_minor": 2
}
