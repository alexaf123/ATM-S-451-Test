{
 "cells": [
  {
   "cell_type": "markdown",
   "metadata": {},
   "source": [
    "<h1>ATM S 541: LECTURE 2</h1>\n",
    "\n",
    "<h2>Data Analysis Using Numpy</h2>\n",
    "\n",
    "01/29/2020"
   ]
  },
  {
   "cell_type": "markdown",
   "metadata": {},
   "source": [
    "<h3>2.0 Logistics</h3>\n",
    "\n",
    "Note that the assignment at the end of the previous document will be due <b>by the start of class on Friday</b>.\n",
    "\n",
    "Our first weather discussion will be during the first 10-15 minutes of class on Friday!"
   ]
  },
  {
   "cell_type": "markdown",
   "metadata": {},
   "source": [
    "<h3>2.1 Modules and Functions</h3>\n",
    "\n",
    "A <b>module</b> is Python is simply a Python source file (i.e., a file that ends in .py).\n",
    "\n",
    "Modules then contain <b>functions</b>, which can be run separately from the rest of the module if desired."
   ]
  },
  {
   "cell_type": "code",
   "execution_count": null,
   "metadata": {
    "collapsed": false
   },
   "outputs": [],
   "source": [
    "# Let's try importing the cosine function from the \"math\" module:\n",
    "\n",
    "from math import cos\n",
    "\n",
    "cos(3.14159)"
   ]
  },
  {
   "cell_type": "code",
   "execution_count": null,
   "metadata": {
    "collapsed": false
   },
   "outputs": [],
   "source": [
    "# If we wanted to actually get pi in here, we might as well just import the whole \"math\" module:\n",
    "\n",
    "import math\n",
    "\n",
    "math.cos(math.pi)"
   ]
  },
  {
   "cell_type": "code",
   "execution_count": null,
   "metadata": {
    "collapsed": false
   },
   "outputs": [],
   "source": [
    "# If you don't want to type \"math\" every time, you can import a module as whatever name you'd like:\n",
    "\n",
    "import math as m\n",
    "\n",
    "m.cos(m.pi)"
   ]
  },
  {
   "cell_type": "markdown",
   "metadata": {},
   "source": [
    "<h3>2.2 Numpy</h3>\n",
    "\n",
    "Numpy is the core scientific library in Python and enables the use of arrays.\n",
    "\n",
    "<h4>2.2.1 Creating Arrays</h4>\n",
    "\n",
    "An array in numpy is just a grid of values (i.e., a matrix).\n",
    "\n",
    "The dimensionality of the array is called its <b>rank</b>.\n",
    "\n",
    "The number of entries in each dimension of the array is called its <b>size</b>."
   ]
  },
  {
   "cell_type": "code",
   "execution_count": null,
   "metadata": {
    "collapsed": false
   },
   "outputs": [],
   "source": [
    "# Any and all numpy operations require this line (and we often shorten \"numpy\" for convenience to \"np\").\n",
    "# Note that importing numpy once will keep it around for the entire Jupyter Notebook.\n",
    "\n",
    "import numpy as np\n",
    "\n",
    "# First, create an array with rank 1.\n",
    "\n",
    "a = np.array([1,2,3])\n",
    "print(a)\n",
    "\n",
    "# Next, we can see what \"type\" looks like for an array variable.\n",
    "\n",
    "print(type(a))"
   ]
  },
  {
   "cell_type": "code",
   "execution_count": null,
   "metadata": {
    "collapsed": false
   },
   "outputs": [],
   "source": [
    "# The shape of the array is easy to output.\n",
    "\n",
    "print(a.shape)"
   ]
  },
  {
   "cell_type": "code",
   "execution_count": null,
   "metadata": {
    "collapsed": false
   },
   "outputs": [],
   "source": [
    "# Likewise, we can print individual members of the array, remembering that indexing starts at 0 in Python!\n",
    "\n",
    "print(a[1])"
   ]
  },
  {
   "cell_type": "code",
   "execution_count": null,
   "metadata": {
    "collapsed": false
   },
   "outputs": [],
   "source": [
    "# We can also very simply replace a particular value within the array.\n",
    "\n",
    "a[0] = 3\n",
    "print(a)"
   ]
  },
  {
   "cell_type": "code",
   "execution_count": null,
   "metadata": {
    "collapsed": false
   },
   "outputs": [],
   "source": [
    "# To create an array with rank 2, we use the following code:\n",
    "\n",
    "b = np.array([[1,2,3],[4,5,6]])\n",
    "print(b.shape)\n",
    "print(b[0,0],b[0,1],b[1,0])"
   ]
  },
  {
   "cell_type": "markdown",
   "metadata": {},
   "source": [
    "<h4>2.2.2 Special Arrays</h4>\n",
    "\n",
    "In matrix algebra, there are certain kinds of matrices that come up frequently; similarly, numpy gives you the option to rapidly build particular kinds of arrays."
   ]
  },
  {
   "cell_type": "code",
   "execution_count": null,
   "metadata": {
    "collapsed": false
   },
   "outputs": [],
   "source": [
    "# An array of all zeros or all ones can be useful if you're \n",
    "# initalizing an array of variables (for example, before passing them through a while loop):\n",
    "\n",
    "a = np.zeros((2,2))\n",
    "print(a)\n",
    "\n",
    "b = np.ones((1,2))\n",
    "print(b)"
   ]
  },
  {
   "cell_type": "code",
   "execution_count": null,
   "metadata": {
    "collapsed": false
   },
   "outputs": [],
   "source": [
    "# You can also easily create an identity matrix:\n",
    "\n",
    "c = np.eye(2)\n",
    "print(c)"
   ]
  },
  {
   "cell_type": "markdown",
   "metadata": {},
   "source": [
    "<h4>2.2.3 Slicing Arrays</h4>\n",
    "\n",
    "<b>Slicing</b> is a way of simply grabbing a subset of an array; this will come in handy for a variety of applications!\n",
    "\n",
    "Indexing works a little differently when you're defining a range within an array rather than just a single number (where counting starts at 0).\n",
    "\n",
    "The range under consideration is written as <b>\"A:B\"</b>, where <b>A</b> is the first index to be included, and <b>B</b> is the index <i>after</i> the final index to be included.\n",
    "\n",
    "So, if you're looking at a list that is written as [\"Entry 0\",\"Entry 1\",\"Entry 2\",\"Entry 3\"], then 0:2 refers to [\"Entry 0\",\"Entry 1\"].\n",
    "\n",
    "As a shortcut, you can leave either <b>A</b> or <b>B</b> blank, and the code will simply grab everything from the beginning or to the end, respectively.\n",
    "\n",
    "So again looking at our example of [\"Entry 0\",\"Entry 1\",\"Entry 2\",\"Entry 3\"], :2 refers to [\"Entry 0\",\"Entry 1\"] and 2: refers to [\"Entry 2\",\"Entry 3\"]."
   ]
  },
  {
   "cell_type": "code",
   "execution_count": null,
   "metadata": {
    "collapsed": false
   },
   "outputs": [],
   "source": [
    "# As an example, let's build a rank 2 array with shape (3,4).\n",
    "\n",
    "a = np.array([[1,2,3,4], [5,6,7,8], [9,10,11,12]])\n",
    "print(a)\n",
    "\n",
    "# Use slicing to only pull out the subarray that consists of the first two rows and the middle two columns.\n",
    "\n",
    "b = a[:2,1:3]\n",
    "print(b)"
   ]
  },
  {
   "cell_type": "code",
   "execution_count": null,
   "metadata": {
    "collapsed": false
   },
   "outputs": [],
   "source": [
    "# Important note: a subarray slice is still part of the original array and can be modified as such!\n",
    "\n",
    "print(a[0,1])\n",
    "b[0,0] = 999\n",
    "print(a[0,1])"
   ]
  },
  {
   "cell_type": "markdown",
   "metadata": {},
   "source": [
    "<h4>2.2.4 Integer Indexing of Arrays</h4>\n",
    "\n",
    "As mentioned in the previous slide, creating subarrays via slicing can be dangerous, because modifying the subarrays will modify the original arrays. To avoid this, you can use "
   ]
  },
  {
   "cell_type": "code",
   "execution_count": null,
   "metadata": {
    "collapsed": false
   },
   "outputs": [],
   "source": [
    "# Let's create another array to work with:\n",
    "\n",
    "a = np.array([[1,2], [3, 4], [5, 6]])\n",
    "\n",
    "print(a)"
   ]
  },
  {
   "cell_type": "code",
   "execution_count": null,
   "metadata": {
    "collapsed": false
   },
   "outputs": [],
   "source": [
    "# We can create a subset of the array through indexing instead:\n",
    "\n",
    "b = a[[0, 1, 2], [0, 1, 0]]\n",
    "\n",
    "print(b)"
   ]
  },
  {
   "cell_type": "code",
   "execution_count": null,
   "metadata": {
    "collapsed": false
   },
   "outputs": [],
   "source": [
    "# Now, when we change a value in b, the change is not reflected in a:\n",
    "\n",
    "b[0] = 999\n",
    "print(a)"
   ]
  },
  {
   "cell_type": "markdown",
   "metadata": {},
   "source": [
    "<h4>2.2.5 Boolean Indexing of Arrays</h4>\n",
    "\n",
    "Finally, you can index (and hence modify) certain parts of an array based on a conditional statement!"
   ]
  },
  {
   "cell_type": "code",
   "execution_count": null,
   "metadata": {
    "collapsed": false
   },
   "outputs": [],
   "source": [
    "a = np.array([[1,2,3],[4,5,6],[7,8,9]])\n",
    "print(a)"
   ]
  },
  {
   "cell_type": "code",
   "execution_count": null,
   "metadata": {
    "collapsed": false
   },
   "outputs": [],
   "source": [
    "# Let's create an index that will return \"True\" if a value is divisible by 2 and \"False\" otherwise!\n",
    "\n",
    "bool_idx = (a%2 == 0)\n",
    "print(bool_idx)"
   ]
  },
  {
   "cell_type": "code",
   "execution_count": null,
   "metadata": {
    "collapsed": false
   },
   "outputs": [],
   "source": [
    "# If you only want to print the values that meet our Boolean statement (that is, the even numbers), you can do it in two ways:\n",
    "\n",
    "print(a[bool_idx])\n",
    "\n",
    "# or, more simply:\n",
    "\n",
    "print(a[a%2 == 0])"
   ]
  },
  {
   "cell_type": "markdown",
   "metadata": {},
   "source": [
    "<h4>2.2.6 Data Types in Arrays</h4>\n",
    "\n",
    "Sometimes you'll want to specify the data type you're going to be using in arrays. The two most relevant to what we'll be doing in this class are <b>int64</b> and <b>float64</b>."
   ]
  },
  {
   "cell_type": "code",
   "execution_count": null,
   "metadata": {
    "collapsed": false
   },
   "outputs": [],
   "source": [
    "# Force a float datatype in an array:\n",
    "\n",
    "x = np.array([[1, 2],[3,4]], dtype=np.float64)\n",
    "print(x)"
   ]
  },
  {
   "cell_type": "markdown",
   "metadata": {},
   "source": [
    "<h4>2.2.7 Simple Math in Arrays</h4>\n",
    "\n",
    "You can perform mathematical operations across entire arrays using numpy!\n",
    "\n",
    "This is extremely powerful, since it avoids having to get too bogged down in loops.\n",
    "\n",
    "Note that the default behavior here is <b>element-wise</b>, not matrix multiplication (so A*B is not the matrix multiplication of the two, but rather the first element of A times the first element of B, the second element of A times the second element of B, and so on)."
   ]
  },
  {
   "cell_type": "code",
   "execution_count": null,
   "metadata": {
    "collapsed": false
   },
   "outputs": [],
   "source": [
    "# Sum two arrays!\n",
    "\n",
    "x = np.array([[1,2],[3,4]])\n",
    "y = np.array([[5,6],[7,8]])\n",
    "\n",
    "# There are a couple different ways to do this that will give the same result:\n",
    "\n",
    "print(x + y)\n",
    "print(np.add(x,y))"
   ]
  },
  {
   "cell_type": "code",
   "execution_count": null,
   "metadata": {
    "collapsed": false
   },
   "outputs": [],
   "source": [
    "# Take the difference of two arrays!\n",
    "\n",
    "print(x - y)\n",
    "print(np.subtract(x,y))"
   ]
  },
  {
   "cell_type": "code",
   "execution_count": null,
   "metadata": {
    "collapsed": false
   },
   "outputs": [],
   "source": [
    "# Multiply (element-wise) two arrays!\n",
    "\n",
    "print(x * y)\n",
    "print(np.multiply(x,y))"
   ]
  },
  {
   "cell_type": "code",
   "execution_count": null,
   "metadata": {
    "collapsed": false
   },
   "outputs": [],
   "source": [
    "# Divide (element-wise) two arrays!\n",
    "\n",
    "print(x / y)\n",
    "print(np.divide(x,y))"
   ]
  },
  {
   "cell_type": "code",
   "execution_count": null,
   "metadata": {
    "collapsed": false
   },
   "outputs": [],
   "source": [
    "# Take the square root of an array!\n",
    "\n",
    "print(np.sqrt(x))"
   ]
  },
  {
   "cell_type": "markdown",
   "metadata": {},
   "source": [
    "<h4>2.2.8 Linear Algebra in Arrays</h4>\n",
    "\n",
    "Remember dot products? Numpy's dot function enables us to compute the inner products of vectors, multiply vectors with matrices, and multiply matrices together."
   ]
  },
  {
   "cell_type": "code",
   "execution_count": null,
   "metadata": {
    "collapsed": false
   },
   "outputs": [],
   "source": [
    "x = np.array([[1,2],[3,4]])\n",
    "y = np.array([[5,6],[7,8]])\n",
    "\n",
    "v = np.array([9,10])\n",
    "w = np.array([11, 12])\n",
    "\n",
    "# You can calculate the vector inner products with either of these methods:\n",
    "\n",
    "print(v.dot(w))\n",
    "print(np.dot(v, w))\n",
    "\n",
    "# You can calculate the product of a matrix and a vector with either of these methods:\n",
    "\n",
    "print(x.dot(v))\n",
    "print(np.dot(x, v))\n",
    "\n",
    "# You can calculate the product of two matrices with either of these methods:\n",
    "\n",
    "print(x.dot(y))\n",
    "print(np.dot(x, y))"
   ]
  },
  {
   "cell_type": "markdown",
   "metadata": {},
   "source": [
    "<h4>2.2.9 Useful Numpy Tools</h4>\n",
    "\n",
    "Numpy provides <a href=\"https://docs.scipy.org/doc/numpy/reference/routines.math.html\">an absurd number</a> of helpful routines you can apply to arrays."
   ]
  },
  {
   "cell_type": "code",
   "execution_count": null,
   "metadata": {
    "collapsed": false
   },
   "outputs": [],
   "source": [
    "x = np.array([[1,2],[3,4]])\n",
    "\n",
    "# To compute the sum of all elements in the array:\n",
    "\n",
    "print(np.sum(x))\n",
    "\n",
    "# To compute the sum of all elements in each column:\n",
    "\n",
    "print(np.sum(x, axis=0))\n",
    "\n",
    "# To compute the sum of all elements in each row:\n",
    "\n",
    "print(np.sum(x, axis=1))"
   ]
  },
  {
   "cell_type": "code",
   "execution_count": null,
   "metadata": {
    "collapsed": true
   },
   "outputs": [],
   "source": []
  }
 ],
 "metadata": {
  "kernelspec": {
   "display_name": "Python 3",
   "language": "python",
   "name": "python3"
  },
  "language_info": {
   "codemirror_mode": {
    "name": "ipython",
    "version": 3
   },
   "file_extension": ".py",
   "mimetype": "text/x-python",
   "name": "python",
   "nbconvert_exporter": "python",
   "pygments_lexer": "ipython3",
   "version": "3.5.3"
  }
 },
 "nbformat": 4,
 "nbformat_minor": 2
}
